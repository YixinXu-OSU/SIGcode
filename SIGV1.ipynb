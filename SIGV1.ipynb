{
 "cells": [
  {
   "cell_type": "code",
   "execution_count": 1,
   "metadata": {},
   "outputs": [],
   "source": [
    "import praw"
   ]
  },
  {
   "cell_type": "code",
   "execution_count": 2,
   "metadata": {},
   "outputs": [],
   "source": [
    "#client_id, client_secret, username, password, and user_agent are depends on your account.\n",
    "reddit = praw.Reddit(client_id = '',\n",
    "                     client_secret = '',\n",
    "                     username = '',\n",
    "                     password = '',\n",
    "                     user_agent = ''\n",
    "                    )"
   ]
  },
  {
   "cell_type": "code",
   "execution_count": 3,
   "metadata": {},
   "outputs": [],
   "source": [
    "subreddit = reddit.subreddit('popular')"
   ]
  },
  {
   "cell_type": "code",
   "execution_count": 4,
   "metadata": {},
   "outputs": [],
   "source": [
    "hot_popular = subreddit.hot(limit = 10)"
   ]
  },
  {
   "cell_type": "code",
   "execution_count": null,
   "metadata": {},
   "outputs": [],
   "source": [
    "for submission in hot_popular:\n",
    "    print(dir(submission))"
   ]
  },
  {
   "cell_type": "code",
   "execution_count": 5,
   "metadata": {},
   "outputs": [
    {
     "name": "stdout",
     "output_type": "stream",
     "text": [
      "title: People old enough to remember life pre-Internet, what are some less obvious things you miss about that time?, ups: 41308，downs: 0, have I visited: False \n",
      "title: Idaho is going to kill 90% of the state’s wolves. That’s a tragedy – and bad policy, ups: 20076，downs: 0, have I visited: False \n",
      "title: I mean you don't want dirt in your house right?, ups: 77178，downs: 0, have I visited: False \n",
      "title: What is the single hardest lesson a man has to learn in a relationship with a woman?, ups: 13970，downs: 0, have I visited: False \n",
      "title: Goldman Sachs executive quits after making millions from Dogecoin, ups: 30022，downs: 0, have I visited: False \n",
      "title: My paw on top!, ups: 41316，downs: 0, have I visited: False \n",
      "title: Animals to be formally recognised as sentient beings in UK law, ups: 27374，downs: 0, have I visited: False \n",
      "title: Zimbabwe wasn’t on Google Street View until this man volunteered to map it himself, ups: 18723，downs: 0, have I visited: False \n",
      "title: Irish ambassador goes on a mad one!, ups: 45688，downs: 0, have I visited: False \n",
      "title: I made a prom dress out of recycled Doritos bags from my school cafeteria, ups: 79939，downs: 0, have I visited: False \n"
     ]
    }
   ],
   "source": [
    "for submission in hot_popular:\n",
    "    if not submission.stickied:\n",
    "        print(\"title: {}, ups: {}，downs: {}, have I visited: {} \". format(submission.title, submission.ups, submission.downs, submission.visited))"
   ]
  },
  {
   "cell_type": "markdown",
   "metadata": {},
   "source": [
    "Other methods\n",
    ".upvote()  \n",
    ".downvote()  \n",
    ".reply()  \n",
    "subreddit.subscribe()"
   ]
  },
  {
   "cell_type": "code",
   "execution_count": null,
   "metadata": {},
   "outputs": [],
   "source": []
  }
 ],
 "metadata": {
  "kernelspec": {
   "display_name": "Python 3",
   "language": "python",
   "name": "python3"
  },
  "language_info": {
   "codemirror_mode": {
    "name": "ipython",
    "version": 3
   },
   "file_extension": ".py",
   "mimetype": "text/x-python",
   "name": "python",
   "nbconvert_exporter": "python",
   "pygments_lexer": "ipython3",
   "version": "3.8.3"
  }
 },
 "nbformat": 4,
 "nbformat_minor": 4
}
